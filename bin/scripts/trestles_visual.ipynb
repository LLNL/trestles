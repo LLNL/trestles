{
 "cells": [
  {
   "cell_type": "markdown",
   "metadata": {},
   "source": [
    "# trestles_visual notebook\n",
    "### Author:   Brenton Blair, Updated:  August 19, 2019\n",
    "\n",
    "### This notebook provides a visualization of low-level data elements extracted with trestles.  This includes the QP-delta, Macroblock Type, and DCT coefficients.  The variation of prediction footprint (VPF) score is also computed and plotted.  The distribution of the non-zero DCT coefficients is plotted on a per frame basis.  For more information on these data elements, please see the README provided with Trestles.\n",
    "\n",
    "## Provide the following inputs in the first cell:\n",
    "###  filename - input video file (e.g. mp4)\n",
    "###  TAU -  tuning parameter used for VPF. Defined as the temporal window length (number of frames) used to compute standard deviation.\n",
    "###   BETA - tuning parameter used for VPF. Defined as number of standard deviations of frame type counts in a given time window."
   ]
  },
  {
   "cell_type": "code",
   "execution_count": null,
   "metadata": {},
   "outputs": [],
   "source": [
    "filename = './test_vids/000.mp4'\n",
    "TAU = 20\n",
    "BETA = 3"
   ]
  },
  {
   "cell_type": "code",
   "execution_count": null,
   "metadata": {},
   "outputs": [],
   "source": [
    "import os\n",
    "import numpy\n",
    "import scipy\n",
    "import matplotlib\n",
    "import subprocess\n",
    "import shutil\n",
    "import optparse\n",
    "import sys\n",
    "import IPython"
   ]
  },
  {
   "cell_type": "markdown",
   "metadata": {},
   "source": [
    "### For brevity, functions called within this notebook are defined in a separate script"
   ]
  },
  {
   "cell_type": "code",
   "execution_count": null,
   "metadata": {},
   "outputs": [],
   "source": [
    "%run tile_gen_functions"
   ]
  },
  {
   "cell_type": "markdown",
   "metadata": {},
   "source": [
    "### Several sub-directories will be created in the current directory:"
   ]
  },
  {
   "cell_type": "code",
   "execution_count": null,
   "metadata": {},
   "outputs": [],
   "source": [
    "!mkdir temp\n",
    "%cd 'temp'\n",
    "os.system(\"mkdir histograms_pngs qp_delta_pngs mb_pngs coeff_pngs vpf_pngs\")"
   ]
  },
  {
   "cell_type": "code",
   "execution_count": null,
   "metadata": {},
   "outputs": [],
   "source": [
    "quant = \"1\"\n",
    "chroma = \"0\"\n",
    "i_frames = \"0\"\n",
    "details = \"1\"\n",
    "motion_vector = \"1\"\n",
    "output_path = \"./temp/out\"\n",
    "trestles_exe = \"../../ldecod.exe\"\n",
    "config_file = \"../../decoder.cfg\"\n",
    "ffmpeg_exe = \"ffmpeg\"\n",
    "ffprobe_exe = \"ffprobe\"\n",
    "\n",
    "# ffprobe_exe = \"ffprobe\"\n",
    "os.system(\"mkdir -p \" + output_path)"
   ]
  },
  {
   "cell_type": "code",
   "execution_count": null,
   "metadata": {},
   "outputs": [],
   "source": [
    "vid_dir       = os.path.dirname(filename)\n",
    "vid_filename  = os.path.basename(filename)\n",
    "vid_id        = os.path.splitext(vid_filename)[0]    # vid_filename.split(\".\")[0]\n",
    "\n",
    "path_264_     = os.path.join(output_path, vid_id + '.264')\n",
    "mb_path       = os.path.join(output_path, vid_id + '_mb_data.csv')\n",
    "coef_path     = os.path.join(output_path, vid_id + '_coef_data.csv')\n",
    "mb_info_path  = os.path.join(output_path, vid_id + '_mb_info.csv')\n",
    "motion_path   = os.path.join(output_path, vid_id + '_mv_data.txt')\n",
    "chroma_b_path = os.path.join(output_path, vid_id + '_chroma_b.txt')\n",
    "chroma_r_path = os.path.join(output_path, vid_id + '_chroma_r.txt')"
   ]
  },
  {
   "cell_type": "code",
   "execution_count": null,
   "metadata": {},
   "outputs": [],
   "source": [
    "# print (vid_dir)\n",
    "# print (vid_filename)\n",
    "# print (vid_id)\n",
    "\n",
    "# print (path_264_)\n",
    "# print (mb_path)\n",
    "# print (coef_path)\n",
    "# print (mb_info_path)\n",
    "# print (motion_path)\n",
    "# print (chroma_b_path)\n",
    "# print (chroma_r_path)"
   ]
  },
  {
   "cell_type": "code",
   "execution_count": null,
   "metadata": {},
   "outputs": [],
   "source": [
    "!pwd"
   ]
  },
  {
   "cell_type": "markdown",
   "metadata": {},
   "source": [
    "### Use FFmpeg to extract the video stream from the mp4 container"
   ]
  },
  {
   "cell_type": "code",
   "execution_count": null,
   "metadata": {},
   "outputs": [],
   "source": [
    "subprocess.check_call([ffmpeg_exe,\"-y\",\"-i\",filename,\"-vcodec\",\"copy\",\"-bsf\",\"h264_mp4toannexb\",\"-an\",\"-f\",\"h264\",path_264_])"
   ]
  },
  {
   "cell_type": "markdown",
   "metadata": {},
   "source": [
    "### Use Trestles to extract all the low-level data needed to create the visualizations"
   ]
  },
  {
   "cell_type": "code",
   "execution_count": null,
   "metadata": {},
   "outputs": [],
   "source": [
    "subprocess.check_call([trestles_exe,\"-d\",config_file,\"-p\",\"InputFile=\" + path_264_,\"-p\",\"OutputFile=\" + \"output.yuv\",\"-p\",\"DCT_quant=\"+quant,\"-p\",\"Chroma=\"+chroma,\"-p\",\"IFrames=\"+i_frames,\"-p\",\"Details=\"+details,\"-p\",\"MB_file=\" + mb_path,\"-p\",\"RefFile = \"\" \",\"-p\",\"CoefFile =\" + coef_path,\"-p\",\"MB_info =\" + mb_info_path,\"-p\",\"MV_flag=\", motion_vector,\"-p\",\"MV_file =\" + motion_path,\"-p\",\"CoefFile_b =\" + chroma_b_path,\"-p\",\"CoefFile_r =\" + chroma_r_path])"
   ]
  },
  {
   "cell_type": "markdown",
   "metadata": {},
   "source": [
    "### FFprobe gets the number of frames, frame rate, resolution height and width"
   ]
  },
  {
   "cell_type": "code",
   "execution_count": null,
   "metadata": {},
   "outputs": [],
   "source": [
    "status, out_frmnum = subprocess.getstatusoutput(ffprobe_exe + ' -v error -count_frames -select_streams v:0 -show_entries stream=nb_read_frames -of default=nokey=1:noprint_wrappers=1 %s' % (filename) )\n",
    "status, out_height = subprocess.getstatusoutput('('+ ffprobe_exe +' -v error -of flat=s=_ -select_streams v:0 -show_entries stream=height %s)' % (filename))\n",
    "status, out_width = subprocess.getstatusoutput('('+ ffprobe_exe +' -v error -of flat=s=_ -select_streams v:0 -show_entries stream=width %s)' % (filename))\n",
    "status, out_frate = subprocess.getstatusoutput(ffprobe_exe + ' -v error -select_streams v -of default=noprint_wrappers=1:nokey=1  -show_entries stream=r_frame_rate %s'%(filename))\n",
    "\n",
    "(frmnum,height,width,frate_str,frate) =  convert_ffprobe_out(out_frmnum,out_height,out_width,out_frate)"
   ]
  },
  {
   "cell_type": "markdown",
   "metadata": {},
   "source": [
    "### Create QP-Delta video"
   ]
  },
  {
   "cell_type": "code",
   "execution_count": null,
   "metadata": {},
   "outputs": [],
   "source": [
    "qpd_vid = os.path.join(output_path, \"qpd_tile.mp4\")\n",
    "qp_type_video(ffmpeg_exe, mb_info_path, qpd_vid, frmnum, width, height, frate_str)"
   ]
  },
  {
   "cell_type": "markdown",
   "metadata": {},
   "source": [
    "### Create Macroblock Type video"
   ]
  },
  {
   "cell_type": "code",
   "execution_count": null,
   "metadata": {},
   "outputs": [],
   "source": [
    "mb_vid = os.path.join(output_path, \"mb_tile.mp4\")\n",
    "mb_type_video(ffmpeg_exe, mb_info_path, mb_vid, frmnum, width, height, frate_str)"
   ]
  },
  {
   "cell_type": "markdown",
   "metadata": {},
   "source": [
    "### Create DCT (integer-transform) coefficient map video"
   ]
  },
  {
   "cell_type": "code",
   "execution_count": null,
   "metadata": {},
   "outputs": [],
   "source": [
    "coef_vid = os.path.join(output_path, \"coeff_tile.mp4\")\n",
    "coef_type_video(ffmpeg_exe, coef_path, coef_vid, frmnum, width, height, frate_str)"
   ]
  },
  {
   "cell_type": "markdown",
   "metadata": {},
   "source": [
    "### Create two offset videos (t+1, t+2)"
   ]
  },
  {
   "cell_type": "code",
   "execution_count": null,
   "metadata": {},
   "outputs": [],
   "source": [
    "cut1_vid = os.path.join(output_path, \"cut1.mp4\")\n",
    "cut2_vid = os.path.join(output_path, \"cut2.mp4\")\n",
    "offset_frame(ffmpeg_exe, filename, 1, frate, cut1_vid)\n",
    "offset_frame(ffmpeg_exe, filename, 2, frate, cut2_vid)"
   ]
  },
  {
   "cell_type": "markdown",
   "metadata": {},
   "source": [
    "### Generate VPF video"
   ]
  },
  {
   "cell_type": "code",
   "execution_count": null,
   "metadata": {},
   "outputs": [],
   "source": [
    "vpf_vid = os.path.join(output_path, \"vpf_video.mp4\")\n",
    "vpf_video_gen(ffmpeg_exe, mb_path, TAU, BETA, vpf_vid, width, height, frate_str)"
   ]
  },
  {
   "cell_type": "markdown",
   "metadata": {},
   "source": [
    "### Generate Histogram video"
   ]
  },
  {
   "cell_type": "code",
   "execution_count": null,
   "metadata": {},
   "outputs": [],
   "source": [
    "hist_vid = os.path.join(output_path, \"hist.mp4\")\n",
    "histogram_gen(ffmpeg_exe, coef_path, hist_vid, width, height, frate_str, frmnum)"
   ]
  },
  {
   "cell_type": "markdown",
   "metadata": {},
   "source": [
    "## Generate Final 3x3 Video\n"
   ]
  },
  {
   "cell_type": "code",
   "execution_count": null,
   "metadata": {},
   "outputs": [],
   "source": [
    "%cd '..'\n",
    "%run tile_gen_functions"
   ]
  },
  {
   "cell_type": "code",
   "execution_count": null,
   "metadata": {},
   "outputs": [],
   "source": [
    "top_vid = os.path.join(output_path, \"top.mp4\")\n",
    "mid_vid = os.path.join(output_path, \"middle.mp4\")\n",
    "btm_vid = os.path.join(output_path, \"bottom.mp4\")\n",
    "output_vid = os.path.join(output_path, \"output.mp4\")\n",
    "output_slow_vid = os.path.join(output_path, \"output_slow.mp4\")\n",
    "\n",
    "tile_3_side_by_side(ffmpeg_exe, cut2_vid, cut1_vid, filename, top_vid)\n",
    "tile_3_side_by_side(ffmpeg_exe, qpd_vid, mb_vid, coef_vid, mid_vid)\n",
    "tile_side_by_side(ffmpeg_exe, vpf_vid, hist_vid, btm_vid)\n",
    "tile_3_top_to_bottom(ffmpeg_exe, top_vid, mid_vid, btm_vid, output_vid)"
   ]
  },
  {
   "cell_type": "code",
   "execution_count": null,
   "metadata": {},
   "outputs": [],
   "source": [
    "adjust_frame_rate(ffmpeg_exe, 10, output_vid, output_slow_vid)"
   ]
  },
  {
   "cell_type": "markdown",
   "metadata": {},
   "source": [
    "## Display the Visualization Result"
   ]
  },
  {
   "cell_type": "code",
   "execution_count": null,
   "metadata": {},
   "outputs": [],
   "source": [
    "import io\n",
    "import base64\n",
    "from IPython.display import HTML\n",
    "\n",
    "\n",
    "video = io.open(output_slow_vid, 'r+b').read()\n",
    "encoded = base64.b64encode(video)\n",
    "HTML(data='''<video alt=\"test\" controls width=\"750\">\n",
    "                <source src=\"data:video/mp4;base64,{0}\" type=\"video/mp4\" />\n",
    "             </video>'''.format(encoded.decode('ascii')))"
   ]
  },
  {
   "cell_type": "code",
   "execution_count": null,
   "metadata": {},
   "outputs": [],
   "source": [
    "# from IPython.display import Video\n",
    "# Video(\"trestles/output_slow.mp4\")"
   ]
  },
  {
   "cell_type": "markdown",
   "metadata": {},
   "source": [
    "<!-- Another approach... -->\n",
    "<!-- <video controls src= \"file:///Volumes/Dharma3/working/calaveras/trestles/output_slow.mp4\" width=\"500\"/> -->"
   ]
  },
  {
   "cell_type": "markdown",
   "metadata": {},
   "source": [
    "Clean up: This is optional, if you run the following cell it will remove all sub-videos and it will be necessary to re-run the notebook to create them again."
   ]
  },
  {
   "cell_type": "code",
   "execution_count": null,
   "metadata": {},
   "outputs": [],
   "source": [
    "os.remove(qpd_vid)\n",
    "os.remove(mb_vid)\n",
    "os.remove(coef_vid)\n",
    "os.remove(cut1_vid)\n",
    "os.remove(cut2_vid)\n",
    "os.remove(vpf_vid)\n",
    "os.remove(hist_vid)\n",
    "os.remove(top_vid)\n",
    "os.remove(mid_vid)\n",
    "os.remove(btm_vid)\n",
    "os.remove(output_vid)\n",
    "os.remove(output_slow_vid)"
   ]
  },
  {
   "cell_type": "code",
   "execution_count": null,
   "metadata": {},
   "outputs": [],
   "source": []
  },
  {
   "cell_type": "code",
   "execution_count": null,
   "metadata": {},
   "outputs": [],
   "source": []
  }
 ],
 "metadata": {
  "kernelspec": {
   "display_name": "Python 3 (ipykernel)",
   "language": "python",
   "name": "python3"
  },
  "language_info": {
   "codemirror_mode": {
    "name": "ipython",
    "version": 3
   },
   "file_extension": ".py",
   "mimetype": "text/x-python",
   "name": "python",
   "nbconvert_exporter": "python",
   "pygments_lexer": "ipython3",
   "version": "3.9.7"
  }
 },
 "nbformat": 4,
 "nbformat_minor": 2
}
